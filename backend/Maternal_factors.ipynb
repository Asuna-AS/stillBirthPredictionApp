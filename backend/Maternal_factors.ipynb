{
 "cells": [
  {
   "cell_type": "code",
   "execution_count": 1,
   "id": "controlled-survival",
   "metadata": {},
   "outputs": [],
   "source": [
    "import pandas as pd\n",
    "import numpy as np\n",
    "import seaborn as sns\n",
    "import matplotlib.pyplot as plt\n",
    "import warnings\n",
    "import pickle\n",
    "warnings.filterwarnings(\"ignore\")"
   ]
  },
  {
   "cell_type": "code",
   "execution_count": 2,
   "id": "subjective-protest",
   "metadata": {},
   "outputs": [],
   "source": [
    "df=pd.read_csv(\"Maternal Factors + Parents History - Sheet1.csv\")"
   ]
  },
  {
   "cell_type": "code",
   "execution_count": 3,
   "id": "normal-trial",
   "metadata": {},
   "outputs": [
    {
     "data": {
      "text/html": [
       "<div>\n",
       "<style scoped>\n",
       "    .dataframe tbody tr th:only-of-type {\n",
       "        vertical-align: middle;\n",
       "    }\n",
       "\n",
       "    .dataframe tbody tr th {\n",
       "        vertical-align: top;\n",
       "    }\n",
       "\n",
       "    .dataframe thead th {\n",
       "        text-align: right;\n",
       "    }\n",
       "</style>\n",
       "<table border=\"1\" class=\"dataframe\">\n",
       "  <thead>\n",
       "    <tr style=\"text-align: right;\">\n",
       "      <th></th>\n",
       "      <th>Placental_Abruption</th>\n",
       "      <th>Previous_stillbirth</th>\n",
       "      <th>Depression</th>\n",
       "      <th>Obesity(55)</th>\n",
       "      <th>Drug_intake</th>\n",
       "      <th>Age</th>\n",
       "      <th>Chromosomal/Genetic Abnormalities (15%)</th>\n",
       "      <th>Kidney_Disease</th>\n",
       "      <th>Diabetes (1-2)</th>\n",
       "      <th>Thyroid</th>\n",
       "      <th>Married_status</th>\n",
       "      <th>Black_race</th>\n",
       "      <th>Financial_issues</th>\n",
       "      <th>Sleep_Disorder</th>\n",
       "      <th>Stillbirth_Prediction</th>\n",
       "    </tr>\n",
       "  </thead>\n",
       "  <tbody>\n",
       "    <tr>\n",
       "      <th>0</th>\n",
       "      <td>1</td>\n",
       "      <td>1</td>\n",
       "      <td>1</td>\n",
       "      <td>0</td>\n",
       "      <td>1</td>\n",
       "      <td>36</td>\n",
       "      <td>0</td>\n",
       "      <td>0</td>\n",
       "      <td>0</td>\n",
       "      <td>1</td>\n",
       "      <td>1</td>\n",
       "      <td>1</td>\n",
       "      <td>1</td>\n",
       "      <td>0</td>\n",
       "      <td>1</td>\n",
       "    </tr>\n",
       "    <tr>\n",
       "      <th>1</th>\n",
       "      <td>1</td>\n",
       "      <td>0</td>\n",
       "      <td>0</td>\n",
       "      <td>1</td>\n",
       "      <td>0</td>\n",
       "      <td>25</td>\n",
       "      <td>1</td>\n",
       "      <td>1</td>\n",
       "      <td>1</td>\n",
       "      <td>0</td>\n",
       "      <td>1</td>\n",
       "      <td>1</td>\n",
       "      <td>0</td>\n",
       "      <td>1</td>\n",
       "      <td>1</td>\n",
       "    </tr>\n",
       "    <tr>\n",
       "      <th>2</th>\n",
       "      <td>1</td>\n",
       "      <td>1</td>\n",
       "      <td>1</td>\n",
       "      <td>1</td>\n",
       "      <td>1</td>\n",
       "      <td>28</td>\n",
       "      <td>0</td>\n",
       "      <td>1</td>\n",
       "      <td>1</td>\n",
       "      <td>0</td>\n",
       "      <td>0</td>\n",
       "      <td>0</td>\n",
       "      <td>0</td>\n",
       "      <td>1</td>\n",
       "      <td>1</td>\n",
       "    </tr>\n",
       "    <tr>\n",
       "      <th>3</th>\n",
       "      <td>1</td>\n",
       "      <td>1</td>\n",
       "      <td>1</td>\n",
       "      <td>0</td>\n",
       "      <td>0</td>\n",
       "      <td>25</td>\n",
       "      <td>0</td>\n",
       "      <td>0</td>\n",
       "      <td>0</td>\n",
       "      <td>1</td>\n",
       "      <td>0</td>\n",
       "      <td>1</td>\n",
       "      <td>1</td>\n",
       "      <td>1</td>\n",
       "      <td>0</td>\n",
       "    </tr>\n",
       "    <tr>\n",
       "      <th>4</th>\n",
       "      <td>0</td>\n",
       "      <td>1</td>\n",
       "      <td>0</td>\n",
       "      <td>1</td>\n",
       "      <td>1</td>\n",
       "      <td>35</td>\n",
       "      <td>0</td>\n",
       "      <td>0</td>\n",
       "      <td>1</td>\n",
       "      <td>0</td>\n",
       "      <td>0</td>\n",
       "      <td>0</td>\n",
       "      <td>0</td>\n",
       "      <td>1</td>\n",
       "      <td>1</td>\n",
       "    </tr>\n",
       "  </tbody>\n",
       "</table>\n",
       "</div>"
      ],
      "text/plain": [
       "   Placental_Abruption  Previous_stillbirth  Depression  Obesity(55)  \\\n",
       "0                    1                    1           1            0   \n",
       "1                    1                    0           0            1   \n",
       "2                    1                    1           1            1   \n",
       "3                    1                    1           1            0   \n",
       "4                    0                    1           0            1   \n",
       "\n",
       "   Drug_intake  Age  Chromosomal/Genetic Abnormalities (15%)  Kidney_Disease  \\\n",
       "0            1   36                                        0               0   \n",
       "1            0   25                                        1               1   \n",
       "2            1   28                                        0               1   \n",
       "3            0   25                                        0               0   \n",
       "4            1   35                                        0               0   \n",
       "\n",
       "   Diabetes (1-2)  Thyroid  Married_status  Black_race  Financial_issues  \\\n",
       "0               0        1               1           1                 1   \n",
       "1               1        0               1           1                 0   \n",
       "2               1        0               0           0                 0   \n",
       "3               0        1               0           1                 1   \n",
       "4               1        0               0           0                 0   \n",
       "\n",
       "   Sleep_Disorder  Stillbirth_Prediction  \n",
       "0               0                      1  \n",
       "1               1                      1  \n",
       "2               1                      1  \n",
       "3               1                      0  \n",
       "4               1                      1  "
      ]
     },
     "execution_count": 3,
     "metadata": {},
     "output_type": "execute_result"
    }
   ],
   "source": [
    "df.head()"
   ]
  },
  {
   "cell_type": "code",
   "execution_count": 4,
   "id": "played-average",
   "metadata": {},
   "outputs": [],
   "source": [
    "df.rename(columns={\"Obesity(55)\":\"Obesity\"},inplace=True)\n"
   ]
  },
  {
   "cell_type": "code",
   "execution_count": 5,
   "id": "rotary-curve",
   "metadata": {},
   "outputs": [],
   "source": [
    "df.rename(columns={\"Chromosomal/Genetic Abnormalities\":\"Chromosomal/Genetic Abnormalities\"},inplace=True)\n"
   ]
  },
  {
   "cell_type": "code",
   "execution_count": 6,
   "id": "angry-white",
   "metadata": {},
   "outputs": [],
   "source": [
    "df.rename(columns={\"Diabetes (1-2)\":\"Diabetes\"},inplace=True)"
   ]
  },
  {
   "cell_type": "code",
   "execution_count": 7,
   "id": "charged-pepper",
   "metadata": {},
   "outputs": [
    {
     "data": {
      "text/plain": [
       "Index(['Placental_Abruption', 'Previous_stillbirth', 'Depression', 'Obesity',\n",
       "       'Drug_intake', 'Age', 'Chromosomal/Genetic Abnormalities (15%)',\n",
       "       'Kidney_Disease', 'Diabetes', 'Thyroid', 'Married_status', 'Black_race',\n",
       "       'Financial_issues', 'Sleep_Disorder', 'Stillbirth_Prediction'],\n",
       "      dtype='object')"
      ]
     },
     "execution_count": 7,
     "metadata": {},
     "output_type": "execute_result"
    }
   ],
   "source": [
    "df.columns"
   ]
  },
  {
   "cell_type": "code",
   "execution_count": 8,
   "id": "excited-wholesale",
   "metadata": {},
   "outputs": [
    {
     "data": {
      "text/html": [
       "<div>\n",
       "<style scoped>\n",
       "    .dataframe tbody tr th:only-of-type {\n",
       "        vertical-align: middle;\n",
       "    }\n",
       "\n",
       "    .dataframe tbody tr th {\n",
       "        vertical-align: top;\n",
       "    }\n",
       "\n",
       "    .dataframe thead th {\n",
       "        text-align: right;\n",
       "    }\n",
       "</style>\n",
       "<table border=\"1\" class=\"dataframe\">\n",
       "  <thead>\n",
       "    <tr style=\"text-align: right;\">\n",
       "      <th></th>\n",
       "      <th>Placental_Abruption</th>\n",
       "      <th>Previous_stillbirth</th>\n",
       "      <th>Depression</th>\n",
       "      <th>Obesity</th>\n",
       "      <th>Drug_intake</th>\n",
       "      <th>Age</th>\n",
       "      <th>Chromosomal/Genetic Abnormalities (15%)</th>\n",
       "      <th>Kidney_Disease</th>\n",
       "      <th>Diabetes</th>\n",
       "      <th>Thyroid</th>\n",
       "      <th>Married_status</th>\n",
       "      <th>Black_race</th>\n",
       "      <th>Financial_issues</th>\n",
       "      <th>Sleep_Disorder</th>\n",
       "      <th>Stillbirth_Prediction</th>\n",
       "    </tr>\n",
       "  </thead>\n",
       "  <tbody>\n",
       "    <tr>\n",
       "      <th>count</th>\n",
       "      <td>100.000000</td>\n",
       "      <td>100.000000</td>\n",
       "      <td>100.000000</td>\n",
       "      <td>100.000000</td>\n",
       "      <td>100.000000</td>\n",
       "      <td>100.000000</td>\n",
       "      <td>100.000000</td>\n",
       "      <td>100.000000</td>\n",
       "      <td>100.000000</td>\n",
       "      <td>100.000000</td>\n",
       "      <td>100.000000</td>\n",
       "      <td>100.000000</td>\n",
       "      <td>100.000000</td>\n",
       "      <td>100.000000</td>\n",
       "      <td>100.000000</td>\n",
       "    </tr>\n",
       "    <tr>\n",
       "      <th>mean</th>\n",
       "      <td>0.420000</td>\n",
       "      <td>0.540000</td>\n",
       "      <td>0.490000</td>\n",
       "      <td>0.520000</td>\n",
       "      <td>0.510000</td>\n",
       "      <td>31.220000</td>\n",
       "      <td>0.510000</td>\n",
       "      <td>0.460000</td>\n",
       "      <td>0.530000</td>\n",
       "      <td>0.490000</td>\n",
       "      <td>0.510000</td>\n",
       "      <td>0.580000</td>\n",
       "      <td>0.460000</td>\n",
       "      <td>0.520000</td>\n",
       "      <td>0.590000</td>\n",
       "    </tr>\n",
       "    <tr>\n",
       "      <th>std</th>\n",
       "      <td>0.496045</td>\n",
       "      <td>0.500908</td>\n",
       "      <td>0.502418</td>\n",
       "      <td>0.502117</td>\n",
       "      <td>0.502418</td>\n",
       "      <td>8.698752</td>\n",
       "      <td>0.502418</td>\n",
       "      <td>0.500908</td>\n",
       "      <td>0.501614</td>\n",
       "      <td>0.502418</td>\n",
       "      <td>0.502418</td>\n",
       "      <td>0.496045</td>\n",
       "      <td>0.500908</td>\n",
       "      <td>0.502117</td>\n",
       "      <td>0.494311</td>\n",
       "    </tr>\n",
       "    <tr>\n",
       "      <th>min</th>\n",
       "      <td>0.000000</td>\n",
       "      <td>0.000000</td>\n",
       "      <td>0.000000</td>\n",
       "      <td>0.000000</td>\n",
       "      <td>0.000000</td>\n",
       "      <td>16.000000</td>\n",
       "      <td>0.000000</td>\n",
       "      <td>0.000000</td>\n",
       "      <td>0.000000</td>\n",
       "      <td>0.000000</td>\n",
       "      <td>0.000000</td>\n",
       "      <td>0.000000</td>\n",
       "      <td>0.000000</td>\n",
       "      <td>0.000000</td>\n",
       "      <td>0.000000</td>\n",
       "    </tr>\n",
       "    <tr>\n",
       "      <th>25%</th>\n",
       "      <td>0.000000</td>\n",
       "      <td>0.000000</td>\n",
       "      <td>0.000000</td>\n",
       "      <td>0.000000</td>\n",
       "      <td>0.000000</td>\n",
       "      <td>25.000000</td>\n",
       "      <td>0.000000</td>\n",
       "      <td>0.000000</td>\n",
       "      <td>0.000000</td>\n",
       "      <td>0.000000</td>\n",
       "      <td>0.000000</td>\n",
       "      <td>0.000000</td>\n",
       "      <td>0.000000</td>\n",
       "      <td>0.000000</td>\n",
       "      <td>0.000000</td>\n",
       "    </tr>\n",
       "    <tr>\n",
       "      <th>50%</th>\n",
       "      <td>0.000000</td>\n",
       "      <td>1.000000</td>\n",
       "      <td>0.000000</td>\n",
       "      <td>1.000000</td>\n",
       "      <td>1.000000</td>\n",
       "      <td>29.500000</td>\n",
       "      <td>1.000000</td>\n",
       "      <td>0.000000</td>\n",
       "      <td>1.000000</td>\n",
       "      <td>0.000000</td>\n",
       "      <td>1.000000</td>\n",
       "      <td>1.000000</td>\n",
       "      <td>0.000000</td>\n",
       "      <td>1.000000</td>\n",
       "      <td>1.000000</td>\n",
       "    </tr>\n",
       "    <tr>\n",
       "      <th>75%</th>\n",
       "      <td>1.000000</td>\n",
       "      <td>1.000000</td>\n",
       "      <td>1.000000</td>\n",
       "      <td>1.000000</td>\n",
       "      <td>1.000000</td>\n",
       "      <td>36.000000</td>\n",
       "      <td>1.000000</td>\n",
       "      <td>1.000000</td>\n",
       "      <td>1.000000</td>\n",
       "      <td>1.000000</td>\n",
       "      <td>1.000000</td>\n",
       "      <td>1.000000</td>\n",
       "      <td>1.000000</td>\n",
       "      <td>1.000000</td>\n",
       "      <td>1.000000</td>\n",
       "    </tr>\n",
       "    <tr>\n",
       "      <th>max</th>\n",
       "      <td>1.000000</td>\n",
       "      <td>1.000000</td>\n",
       "      <td>1.000000</td>\n",
       "      <td>1.000000</td>\n",
       "      <td>1.000000</td>\n",
       "      <td>56.000000</td>\n",
       "      <td>1.000000</td>\n",
       "      <td>1.000000</td>\n",
       "      <td>1.000000</td>\n",
       "      <td>1.000000</td>\n",
       "      <td>1.000000</td>\n",
       "      <td>1.000000</td>\n",
       "      <td>1.000000</td>\n",
       "      <td>1.000000</td>\n",
       "      <td>1.000000</td>\n",
       "    </tr>\n",
       "  </tbody>\n",
       "</table>\n",
       "</div>"
      ],
      "text/plain": [
       "       Placental_Abruption  Previous_stillbirth  Depression     Obesity  \\\n",
       "count           100.000000           100.000000  100.000000  100.000000   \n",
       "mean              0.420000             0.540000    0.490000    0.520000   \n",
       "std               0.496045             0.500908    0.502418    0.502117   \n",
       "min               0.000000             0.000000    0.000000    0.000000   \n",
       "25%               0.000000             0.000000    0.000000    0.000000   \n",
       "50%               0.000000             1.000000    0.000000    1.000000   \n",
       "75%               1.000000             1.000000    1.000000    1.000000   \n",
       "max               1.000000             1.000000    1.000000    1.000000   \n",
       "\n",
       "       Drug_intake         Age  Chromosomal/Genetic Abnormalities (15%)  \\\n",
       "count   100.000000  100.000000                               100.000000   \n",
       "mean      0.510000   31.220000                                 0.510000   \n",
       "std       0.502418    8.698752                                 0.502418   \n",
       "min       0.000000   16.000000                                 0.000000   \n",
       "25%       0.000000   25.000000                                 0.000000   \n",
       "50%       1.000000   29.500000                                 1.000000   \n",
       "75%       1.000000   36.000000                                 1.000000   \n",
       "max       1.000000   56.000000                                 1.000000   \n",
       "\n",
       "       Kidney_Disease    Diabetes     Thyroid  Married_status  Black_race  \\\n",
       "count      100.000000  100.000000  100.000000      100.000000  100.000000   \n",
       "mean         0.460000    0.530000    0.490000        0.510000    0.580000   \n",
       "std          0.500908    0.501614    0.502418        0.502418    0.496045   \n",
       "min          0.000000    0.000000    0.000000        0.000000    0.000000   \n",
       "25%          0.000000    0.000000    0.000000        0.000000    0.000000   \n",
       "50%          0.000000    1.000000    0.000000        1.000000    1.000000   \n",
       "75%          1.000000    1.000000    1.000000        1.000000    1.000000   \n",
       "max          1.000000    1.000000    1.000000        1.000000    1.000000   \n",
       "\n",
       "       Financial_issues  Sleep_Disorder  Stillbirth_Prediction  \n",
       "count        100.000000      100.000000             100.000000  \n",
       "mean           0.460000        0.520000               0.590000  \n",
       "std            0.500908        0.502117               0.494311  \n",
       "min            0.000000        0.000000               0.000000  \n",
       "25%            0.000000        0.000000               0.000000  \n",
       "50%            0.000000        1.000000               1.000000  \n",
       "75%            1.000000        1.000000               1.000000  \n",
       "max            1.000000        1.000000               1.000000  "
      ]
     },
     "execution_count": 8,
     "metadata": {},
     "output_type": "execute_result"
    }
   ],
   "source": [
    "df.describe()"
   ]
  },
  {
   "cell_type": "code",
   "execution_count": 9,
   "id": "dedicated-index",
   "metadata": {},
   "outputs": [
    {
     "data": {
      "text/plain": [
       "(100, 15)"
      ]
     },
     "execution_count": 9,
     "metadata": {},
     "output_type": "execute_result"
    }
   ],
   "source": [
    "df.shape"
   ]
  },
  {
   "cell_type": "code",
   "execution_count": 10,
   "id": "caring-popularity",
   "metadata": {},
   "outputs": [
    {
     "data": {
      "text/plain": [
       "Placental_Abruption                        0\n",
       "Previous_stillbirth                        0\n",
       "Depression                                 0\n",
       "Obesity                                    0\n",
       "Drug_intake                                0\n",
       "Age                                        0\n",
       "Chromosomal/Genetic Abnormalities (15%)    0\n",
       "Kidney_Disease                             0\n",
       "Diabetes                                   0\n",
       "Thyroid                                    0\n",
       "Married_status                             0\n",
       "Black_race                                 0\n",
       "Financial_issues                           0\n",
       "Sleep_Disorder                             0\n",
       "Stillbirth_Prediction                      0\n",
       "dtype: int64"
      ]
     },
     "execution_count": 10,
     "metadata": {},
     "output_type": "execute_result"
    }
   ],
   "source": [
    "df.isna().sum()\n"
   ]
  },
  {
   "cell_type": "code",
   "execution_count": 11,
   "id": "controlled-breakfast",
   "metadata": {},
   "outputs": [
    {
     "data": {
      "text/plain": [
       "(array([0]), [Text(0, 0, '0')])"
      ]
     },
     "execution_count": 11,
     "metadata": {},
     "output_type": "execute_result"
    },
    {
     "data": {
      "image/png": "[encoded data removed]",
      "text/plain": [
       "<Figure size 1152x576 with 1 Axes>"
      ]
     },
     "metadata": {
      "needs_background": "light"
     },
     "output_type": "display_data"
    }
   ],
   "source": [
    "plt.figure(figsize=(16,8))\n",
    "sn=sns.countplot(df['Age'])\n",
    "plt.xticks(rotation=90)"
   ]
  },
  {
   "cell_type": "code",
   "execution_count": 12,
   "id": "piano-mortgage",
   "metadata": {},
   "outputs": [
    {
     "data": {
      "text/plain": [
       "<AxesSubplot: ylabel='count'>"
      ]
     },
     "execution_count": 12,
     "metadata": {},
     "output_type": "execute_result"
    },
    {
     "data": {
      "image/png": "[encoded data removed]",
      "text/plain": [
       "<Figure size 576x576 with 1 Axes>"
      ]
     },
     "metadata": {
      "needs_background": "light"
     },
     "output_type": "display_data"
    }
   ],
   "source": [
    "plt.figure(figsize=(8,8))\n",
    "sns.countplot(df['Placental_Abruption'],palette='rainbow')"
   ]
  },
  {
   "cell_type": "code",
   "execution_count": 13,
   "id": "conventional-fluid",
   "metadata": {},
   "outputs": [
    {
     "data": {
      "text/plain": [
       "<AxesSubplot: ylabel='count'>"
      ]
     },
     "execution_count": 13,
     "metadata": {},
     "output_type": "execute_result"
    },
    {
     "data": {
      "image/png": "[encoded data removed]",
      "text/plain": [
       "<Figure size 576x576 with 1 Axes>"
      ]
     },
     "metadata": {
      "needs_background": "light"
     },
     "output_type": "display_data"
    }
   ],
   "source": [
    "plt.figure(figsize=(8,8))\n",
    "sns.countplot(df['Previous_stillbirth'],palette='dark')"
   ]
  },
  {
   "cell_type": "code",
   "execution_count": 14,
   "id": "marine-mechanics",
   "metadata": {},
   "outputs": [],
   "source": [
    "# plt.figure(figsize=(12,8))\n",
    "# sns.scatterplot('Age','Previous_stillbirth',data=df,hue='Stillbirth_Prediction',palette='dark',s=150)\n",
    "# plt.xticks(rotation=90)"
   ]
  },
  {
   "cell_type": "code",
   "execution_count": 15,
   "id": "hollow-minnesota",
   "metadata": {},
   "outputs": [],
   "source": [
    "# plt.figure(figsize=(12,8))\n",
    "# sns.scatterplot('Age','Placental_Abruption',data=df,hue='Stillbirth_Prediction',palette='rainbow',s=150)\n",
    "# plt.xticks(rotation=90)"
   ]
  },
  {
   "cell_type": "code",
   "execution_count": 16,
   "id": "cutting-mercy",
   "metadata": {},
   "outputs": [],
   "source": [
    "# plt.figure(figsize=(12,8))\n",
    "# sns.scatterplot('Age','Depression',data=df,hue='Stillbirth_Prediction',palette='pastel',s=150)\n",
    "# plt.xticks(rotation=90)"
   ]
  },
  {
   "cell_type": "code",
   "execution_count": 17,
   "id": "controlled-update",
   "metadata": {},
   "outputs": [
    {
     "data": {
      "text/plain": [
       "([<matplotlib.axis.YTick at 0x248ef5ad120>], [Text(0, 0, '0')])"
      ]
     },
     "execution_count": 17,
     "metadata": {},
     "output_type": "execute_result"
    },
    {
     "data": {
      "image/png": "[encoded data removed]",
      "text/plain": [
       "<Figure size 432x288 with 1 Axes>"
      ]
     },
     "metadata": {
      "needs_background": "light"
     },
     "output_type": "display_data"
    }
   ],
   "source": [
    "fig_preg = plt.figure()\n",
    "ax1 = sns.scatterplot(x = 'Age', y = 'Placental_Abruption', data = df, hue = 'Stillbirth_Prediction', palette = 'PuBu')\n",
    "ax2 = sns.scatterplot(x = df['Age'], y = df['Placental_Abruption'], s = 100)\n",
    "plt.xticks(np.arange(16,56,4))\n",
    "plt.yticks(np.arange(0,1,1))"
   ]
  },
  {
   "cell_type": "code",
   "execution_count": 18,
   "id": "fancy-reynolds",
   "metadata": {},
   "outputs": [
    {
     "data": {
      "text/plain": [
       "([<matplotlib.axis.YTick at 0x248ef677370>], [Text(0, 0, '0')])"
      ]
     },
     "execution_count": 18,
     "metadata": {},
     "output_type": "execute_result"
    },
    {
     "data": {
      "image/png": "[encoded data removed]",
      "text/plain": [
       "<Figure size 432x288 with 1 Axes>"
      ]
     },
     "metadata": {
      "needs_background": "light"
     },
     "output_type": "display_data"
    }
   ],
   "source": [
    "fig_preg = plt.figure()\n",
    "ax1 = sns.scatterplot(x = 'Age', y = 'Previous_stillbirth', data = df, hue = 'Stillbirth_Prediction', palette = 'PuBu')\n",
    "ax2 = sns.scatterplot(x = df['Age'], y = df['Previous_stillbirth'], s = 100)\n",
    "plt.xticks(np.arange(16,56,5))\n",
    "plt.yticks(np.arange(0,1,1))"
   ]
  },
  {
   "cell_type": "code",
   "execution_count": 19,
   "id": "comprehensive-publisher",
   "metadata": {},
   "outputs": [],
   "source": [
    "x=df.drop(['Stillbirth_Prediction'],axis=1)\n",
    "y=df['Stillbirth_Prediction']"
   ]
  },
  {
   "cell_type": "code",
   "execution_count": 20,
   "id": "offshore-ending",
   "metadata": {},
   "outputs": [
    {
     "data": {
      "text/html": [
       "<div>\n",
       "<style scoped>\n",
       "    .dataframe tbody tr th:only-of-type {\n",
       "        vertical-align: middle;\n",
       "    }\n",
       "\n",
       "    .dataframe tbody tr th {\n",
       "        vertical-align: top;\n",
       "    }\n",
       "\n",
       "    .dataframe thead th {\n",
       "        text-align: right;\n",
       "    }\n",
       "</style>\n",
       "<table border=\"1\" class=\"dataframe\">\n",
       "  <thead>\n",
       "    <tr style=\"text-align: right;\">\n",
       "      <th></th>\n",
       "      <th>Placental_Abruption</th>\n",
       "      <th>Previous_stillbirth</th>\n",
       "      <th>Depression</th>\n",
       "      <th>Obesity</th>\n",
       "      <th>Drug_intake</th>\n",
       "      <th>Age</th>\n",
       "      <th>Chromosomal/Genetic Abnormalities (15%)</th>\n",
       "      <th>Kidney_Disease</th>\n",
       "      <th>Diabetes</th>\n",
       "      <th>Thyroid</th>\n",
       "      <th>Married_status</th>\n",
       "      <th>Black_race</th>\n",
       "      <th>Financial_issues</th>\n",
       "      <th>Sleep_Disorder</th>\n",
       "    </tr>\n",
       "  </thead>\n",
       "  <tbody>\n",
       "    <tr>\n",
       "      <th>0</th>\n",
       "      <td>1</td>\n",
       "      <td>1</td>\n",
       "      <td>1</td>\n",
       "      <td>0</td>\n",
       "      <td>1</td>\n",
       "      <td>36</td>\n",
       "      <td>0</td>\n",
       "      <td>0</td>\n",
       "      <td>0</td>\n",
       "      <td>1</td>\n",
       "      <td>1</td>\n",
       "      <td>1</td>\n",
       "      <td>1</td>\n",
       "      <td>0</td>\n",
       "    </tr>\n",
       "    <tr>\n",
       "      <th>1</th>\n",
       "      <td>1</td>\n",
       "      <td>0</td>\n",
       "      <td>0</td>\n",
       "      <td>1</td>\n",
       "      <td>0</td>\n",
       "      <td>25</td>\n",
       "      <td>1</td>\n",
       "      <td>1</td>\n",
       "      <td>1</td>\n",
       "      <td>0</td>\n",
       "      <td>1</td>\n",
       "      <td>1</td>\n",
       "      <td>0</td>\n",
       "      <td>1</td>\n",
       "    </tr>\n",
       "    <tr>\n",
       "      <th>2</th>\n",
       "      <td>1</td>\n",
       "      <td>1</td>\n",
       "      <td>1</td>\n",
       "      <td>1</td>\n",
       "      <td>1</td>\n",
       "      <td>28</td>\n",
       "      <td>0</td>\n",
       "      <td>1</td>\n",
       "      <td>1</td>\n",
       "      <td>0</td>\n",
       "      <td>0</td>\n",
       "      <td>0</td>\n",
       "      <td>0</td>\n",
       "      <td>1</td>\n",
       "    </tr>\n",
       "    <tr>\n",
       "      <th>3</th>\n",
       "      <td>1</td>\n",
       "      <td>1</td>\n",
       "      <td>1</td>\n",
       "      <td>0</td>\n",
       "      <td>0</td>\n",
       "      <td>25</td>\n",
       "      <td>0</td>\n",
       "      <td>0</td>\n",
       "      <td>0</td>\n",
       "      <td>1</td>\n",
       "      <td>0</td>\n",
       "      <td>1</td>\n",
       "      <td>1</td>\n",
       "      <td>1</td>\n",
       "    </tr>\n",
       "    <tr>\n",
       "      <th>4</th>\n",
       "      <td>0</td>\n",
       "      <td>1</td>\n",
       "      <td>0</td>\n",
       "      <td>1</td>\n",
       "      <td>1</td>\n",
       "      <td>35</td>\n",
       "      <td>0</td>\n",
       "      <td>0</td>\n",
       "      <td>1</td>\n",
       "      <td>0</td>\n",
       "      <td>0</td>\n",
       "      <td>0</td>\n",
       "      <td>0</td>\n",
       "      <td>1</td>\n",
       "    </tr>\n",
       "  </tbody>\n",
       "</table>\n",
       "</div>"
      ],
      "text/plain": [
       "   Placental_Abruption  Previous_stillbirth  Depression  Obesity  Drug_intake  \\\n",
       "0                    1                    1           1        0            1   \n",
       "1                    1                    0           0        1            0   \n",
       "2                    1                    1           1        1            1   \n",
       "3                    1                    1           1        0            0   \n",
       "4                    0                    1           0        1            1   \n",
       "\n",
       "   Age  Chromosomal/Genetic Abnormalities (15%)  Kidney_Disease  Diabetes  \\\n",
       "0   36                                        0               0         0   \n",
       "1   25                                        1               1         1   \n",
       "2   28                                        0               1         1   \n",
       "3   25                                        0               0         0   \n",
       "4   35                                        0               0         1   \n",
       "\n",
       "   Thyroid  Married_status  Black_race  Financial_issues  Sleep_Disorder  \n",
       "0        1               1           1                 1               0  \n",
       "1        0               1           1                 0               1  \n",
       "2        0               0           0                 0               1  \n",
       "3        1               0           1                 1               1  \n",
       "4        0               0           0                 0               1  "
      ]
     },
     "execution_count": 20,
     "metadata": {},
     "output_type": "execute_result"
    }
   ],
   "source": [
    "x.head()"
   ]
  },
  {
   "cell_type": "code",
   "execution_count": 21,
   "id": "mathematical-makeup",
   "metadata": {},
   "outputs": [],
   "source": [
    "from sklearn.model_selection import train_test_split\n",
    "X_train, X_test, y_train, y_test = train_test_split(x, y, test_size=0.2, random_state=0)"
   ]
  },
  {
   "cell_type": "code",
   "execution_count": 22,
   "id": "collective-extent",
   "metadata": {},
   "outputs": [],
   "source": [
    "from sklearn.metrics import accuracy_score"
   ]
  },
  {
   "cell_type": "code",
   "execution_count": 23,
   "id": "arabic-broadcasting",
   "metadata": {},
   "outputs": [
    {
     "name": "stdout",
     "output_type": "stream",
     "text": [
      "0.85\n",
      "0.85\n"
     ]
    }
   ],
   "source": [
    "from sklearn.neighbors import KNeighborsClassifier  \n",
    "classifier= KNeighborsClassifier()  \n",
    "classifier.fit(X_train, y_train)\n",
    "print(classifier.score(X_test,y_test))\n",
    "classi_pred=classifier.predict(X_test)\n",
    "classi_accu=accuracy_score(y_test,classi_pred)\n",
    "print(classi_accu)"
   ]
  },
  {
   "cell_type": "code",
   "execution_count": 24,
   "id": "closing-assessment",
   "metadata": {},
   "outputs": [
    {
     "name": "stdout",
     "output_type": "stream",
     "text": [
      "0.8\n",
      "0.8\n"
     ]
    }
   ],
   "source": [
    "from sklearn.ensemble import RandomForestClassifier\n",
    "\n",
    "rnd_clf = RandomForestClassifier(n_estimators=500, max_leaf_nodes=16, n_jobs=-1)\n",
    "rnd_clf.fit(X_train, y_train)\n",
    "print(rnd_clf.score(X_test,y_test))\n",
    "rnd_pred=rnd_clf.predict(X_test)\n",
    "rnd_accu=accuracy_score(y_test,rnd_pred)\n",
    "print(rnd_accu)\n"
   ]
  },
  {
   "cell_type": "code",
   "execution_count": 25,
   "id": "southern-chest",
   "metadata": {},
   "outputs": [
    {
     "name": "stdout",
     "output_type": "stream",
     "text": [
      "0.95\n",
      "0.95\n",
      "[1]\n"
     ]
    }
   ],
   "source": [
    "from sklearn.linear_model import LogisticRegression\n",
    "\n",
    "model=LogisticRegression()\n",
    "model.fit(X_train,y_train)\n",
    "print(model.score(X_test,y_test))\n",
    "model_pred=model.predict(X_test)\n",
    "model_accu=accuracy_score(y_test,model_pred)\n",
    "print(model_accu)\n",
    "pickle.dump(model,open('model.pkl', 'wb'))\n",
    "m = pickle.load(open('model.pkl', 'rb')) \n",
    "print(model.predict([[1,1,1,1,1,1,1,1,1,1,1,1,1,1]]))\n"
   ]
  },
  {
   "cell_type": "code",
   "execution_count": 26,
   "id": "large-ordinary",
   "metadata": {},
   "outputs": [
    {
     "name": "stdout",
     "output_type": "stream",
     "text": [
      "0.8\n",
      "0.95\n"
     ]
    }
   ],
   "source": [
    "from xgboost import XGBClassifier\n",
    "xbg_model = XGBClassifier()\n",
    "xbg_model.fit(X_train, y_train)\n",
    "print(xbg_model.score(X_test,y_test))\n",
    "xbg_pred=model.predict(X_test)\n",
    "xbg_accu=accuracy_score(y_test,xbg_pred)\n",
    "print(xbg_accu)"
   ]
  },
  {
   "cell_type": "code",
   "execution_count": null,
   "id": "correct-password",
   "metadata": {},
   "outputs": [],
   "source": []
  }
 ],
 "metadata": {
  "kernelspec": {
   "display_name": "Python 3 (ipykernel)",
   "language": "python",
   "name": "python3"
  },
  "language_info": {
   "codemirror_mode": {
    "name": "ipython",
    "version": 3
   },
   "file_extension": ".py",
   "mimetype": "text/x-python",
   "name": "python",
   "nbconvert_exporter": "python",
   "pygments_lexer": "ipython3",
   "version": "3.10.7 (tags/v3.10.7:6cc6b13, Sep  5 2022, 14:08:36) [MSC v.1933 64 bit (AMD64)]"
  },
  "vscode": {
   "interpreter": {
    "hash": "e45567fdf18f1ce9dd4e14295d1a04489bc7018fa50e3dc1167d45f6cfcb8696"
   }
  }
 },
 "nbformat": 4,
 "nbformat_minor": 5
}
